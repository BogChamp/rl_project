{
 "cells": [
  {
   "cell_type": "code",
   "execution_count": 26,
   "metadata": {},
   "outputs": [
    {
     "name": "stdout",
     "output_type": "stream",
     "text": [
      "The autoreload extension is already loaded. To reload it, use:\n",
      "  %reload_ext autoreload\n"
     ]
    }
   ],
   "source": [
    "import numpy as np\n",
    "import pandas as pd\n",
    "import torch\n",
    "from torch import nn\n",
    "import random\n",
    "from IPython.display import clear_output\n",
    "import matplotlib.pyplot as plt\n",
    "%load_ext autoreload"
   ]
  },
  {
   "cell_type": "markdown",
   "metadata": {},
   "source": [
    "$$\\dot{\\theta} = \\omega$$\n",
    "$$\\dot{\\omega} = \\frac{(m+m_c)g\\sin{\\theta} - \\cos{\\theta}(u + ml\\omega^2\\sin{\\theta})}{(4/3)(m+m_c)l - ml\\cos{\\theta}^2}$$\n",
    "$$\\dot{h} = dh$$\n",
    "$$\\dot{dh} = \\frac{u + ml(\\omega^2\\sin{\\theta} - \\dot{\\omega}\\cos{\\theta})}{m + m_c}$$"
   ]
  },
  {
   "cell_type": "code",
   "execution_count": 33,
   "metadata": {},
   "outputs": [],
   "source": [
    "from pendulum import InvertedPendulumSystem\n",
    "from simulator import Simulator\n",
    "from buffer import IterationBuffer\n",
    "from model import GaussianPDFModel\n",
    "from optimizer import Optimizer\n",
    "from policy_reinforce import PolicyREINFORCE\n",
    "from monte_carlo import MonteCarloSimulationScenario\n",
    "%autoreload 2"
   ]
  },
  {
   "cell_type": "code",
   "execution_count": 57,
   "metadata": {},
   "outputs": [
    {
     "data": {
      "text/plain": [
       "Text(0.5, 1.0, 'Angular velocity')"
      ]
     },
     "execution_count": 57,
     "metadata": {},
     "output_type": "execute_result"
    },
    {
     "data": {
      "image/png": "[encoded data removed]",
      "text/plain": [
       "<Figure size 1200x400 with 4 Axes>"
      ]
     },
     "metadata": {},
     "output_type": "display_data"
    }
   ],
   "source": [
    "system = InvertedPendulumSystem()\n",
    "simulator = Simulator(\n",
    "    system, N_steps=1800, step_size=0.003, state_init=np.array([0.0,0.0])\n",
    ")\n",
    "simulator.reset()\n",
    "\n",
    "observations = []\n",
    "actions = []\n",
    "while simulator.step():\n",
    "    (\n",
    "        observation,\n",
    "        action,\n",
    "        step_idx,\n",
    "    ) = simulator.get_sim_step_data()\n",
    "\n",
    "    new_action = np.array([-5 * observation[0] + -2 * observation[1]])\n",
    "\n",
    "    system.receive_action(new_action)\n",
    "    observations.append(np.copy(observation))\n",
    "    actions.append(np.copy(new_action))\n",
    "\n",
    "fig, (ax1, ax2, ax3, ax4) = plt.subplots(nrows=1, ncols=4)\n",
    "fig.set_size_inches(12, 4)\n",
    "ax1.plot(np.array(observations)[:, 0])\n",
    "ax1.grid()\n",
    "ax1.set_title(\"Angle\")\n",
    "ax2.plot(np.array(observations)[:, 1])\n",
    "ax2.grid()\n",
    "ax2.set_title(\"Angular velocity\")\n",
    "# ax3.plot(np.array(observations)[:, 2])\n",
    "# ax3.grid()\n",
    "# ax3.set_title(\"horizontal distance\")\n",
    "# ax3.plot(np.array(observations)[:, 2])\n",
    "# ax3.grid()\n",
    "# ax3.set_title(\"horizontal distance\")\n",
    "# ax4.plot(np.array(observations)[:, 3])\n",
    "# ax4.grid()\n",
    "# ax4.set_title(\"horizontal angular\")"
   ]
  },
  {
   "cell_type": "markdown",
   "metadata": {},
   "source": [
    "# Reinforce"
   ]
  },
  {
   "cell_type": "code",
   "execution_count": 92,
   "metadata": {},
   "outputs": [
    {
     "name": "stderr",
     "output_type": "stream",
     "text": [
      "100%|██████████| 2/2 [00:02<00:00,  1.00s/it]\n"
     ]
    },
    {
     "name": "stdout",
     "output_type": "stream",
     "text": [
      "Iteration: 1 / 150, mean total cost 29313.81, % change: +29313708.81, last observation: [-0.94358148 -0.33114043  0.02804186]\n"
     ]
    },
    {
     "name": "stderr",
     "output_type": "stream",
     "text": [
      "  0%|          | 0/2 [00:00<?, ?it/s]"
     ]
    }
   ],
   "source": [
    "SEED = 14\n",
    "np.random.seed(SEED)\n",
    "torch.manual_seed(SEED)\n",
    "random.seed(SEED)\n",
    "\n",
    "system = InvertedPendulumSystem()\n",
    "\n",
    "simulator = Simulator(\n",
    "    system, N_steps=1500, step_size=0.003, state_init=np.array([np.pi, 0.0])\n",
    ")\n",
    "model = GaussianPDFModel(\n",
    "    dim_observation=system.dim_observation,\n",
    "    dim_action=system.dim_action,\n",
    "    action_bounds=np.array([[-200, 200]]),\n",
    "    scale_factor=1,  # TRY TO FIND scale_factor EMPIRICALLY\n",
    "    dim_hidden=64, # TRY TO FIND dim_hidden EMPIRICALLY\n",
    "    std=0.05, # TRY TO FIND STD EMPIRICALLY\n",
    "    n_hidden_layers=3 # TRY TO FIND STD EMPIRICALLY\n",
    ")\n",
    "\n",
    "optimizer = Optimizer(\n",
    "    model=model,\n",
    "    opt_method=torch.optim.Adam,\n",
    "    #---------------------------------------------------------------------------\n",
    "    # YOUR CODE GOES HERE\n",
    "    opt_options=dict(lr=0.01), # TRY TO FIND lr EMPIRICALLY\n",
    "    #---------------------------------------------------------------------------\n",
    ")\n",
    "## Or if you want to use scheduler then initialize optimizer, via, for instance\n",
    "# lr_scheduler_fading_coeff = 1\n",
    "# optimizer = Optimizer(\n",
    "#     model=model,\n",
    "#     opt_method=torch.optim.Adam,\n",
    "#     opt_options=dict(lr=1.0, betas=(0.8, 0.9)),\n",
    "#     shuffle=False,\n",
    "#     lr_scheduler_method=torch.optim.lr_scheduler.MultiplicativeLR,\n",
    "#     lr_scheduler_options={\n",
    "#         \"lr_lambda\": lambda iteration: 1\n",
    "#         / np.sqrt((iteration / lr_scheduler_fading_coeff) ** 2 + 1)\n",
    "#     },\n",
    "#     lr_scheduler_switch=LRSchedulerSwitch(norm_observation_threshold=0.1),\n",
    "# )\n",
    "#\n",
    "# BELEIVE US! YOU CAN SOLVE THIS TASK WITHOUT SCHEDULER\n",
    "\n",
    "policy = PolicyREINFORCE(model, optimizer, is_with_baseline=True)\n",
    "\n",
    "\n",
    "# This termination criterion never terminates episodes\n",
    "trivial_termination_criterion = lambda *args: False\n",
    "\n",
    "## EXAMPLE. This termination criterion terminates episode if observation norm >= 20\n",
    "\n",
    "# MAX_ANGLE = np.pi / 8\n",
    "# MAX_X = 5\n",
    "# termination_criterion = (\n",
    "#     lambda observation, action, running_objective, total_objective: (\n",
    "#         (np.abs(observation[0]) > MAX_ANGLE)# or (np.abs(observation[2]) > MAX_X)\n",
    "#     )\n",
    "# )\n",
    "\n",
    "\n",
    "scenario = MonteCarloSimulationScenario(\n",
    "    simulator=simulator,\n",
    "    system=system,\n",
    "    policy=policy,\n",
    "    N_episodes=2, # Increasing the number of episodes stabilizes learning, but you can manage it with N_episodes=1\n",
    "    N_iterations=150, # You can change the number of iterations if you want\n",
    "    termination_criterion=trivial_termination_criterion,\n",
    "    discount_factor=1.0,\n",
    ")\n",
    "\n",
    "try:\n",
    "    scenario.run()\n",
    "except KeyboardInterrupt:\n",
    "    clear_output(wait=True)\n",
    "    scenario.plot_data()\n",
    "\n",
    "clear_output(wait=True)\n",
    "scenario.plot_data()"
   ]
  }
 ],
 "metadata": {
  "kernelspec": {
   "display_name": "Python 3",
   "language": "python",
   "name": "python3"
  },
  "language_info": {
   "codemirror_mode": {
    "name": "ipython",
    "version": 3
   },
   "file_extension": ".py",
   "mimetype": "text/x-python",
   "name": "python",
   "nbconvert_exporter": "python",
   "pygments_lexer": "ipython3",
   "version": "3.10.12"
  }
 },
 "nbformat": 4,
 "nbformat_minor": 2
}
